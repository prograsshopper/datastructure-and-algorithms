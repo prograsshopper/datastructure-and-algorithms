{
 "cells": [
  {
   "cell_type": "markdown",
   "metadata": {},
   "source": [
    "# Graph\n",
    "## Intro\n",
    "### Graph\n",
    "- 그래프는 G=(V,E) 식으로 표현한다. 여기서 V는 정점의 집합, 그리고 E는 간선의 집합이다.\n",
    "- 간선은 튜플로 표현된다. (v,w)   w,v∈V\n",
    "\n",
    "### 용어\n",
    "- Vertex: 정점. key라고 칭할 이름이 있고, payload 라고 부르는 정보를 지니고 있다.\n",
    "- Edge: 간선. 두 개의 정점을 이어서 두 정점 사이의 관계를 보여줌. 방향이 있을 수도 있고 없을 수도 있다. 그래프의 간선들이 모두 방향이 있다면 그 그래프는 유향그래프 (directed graph / digraph)라고 부른다.\n",
    "- Weight: 가중치. 한 정점에서 다른 정점으로 가는 데에 드는 비용을 뜻함.\n",
    "- Path: 경로. 간선으로 이어진 정점의 시퀀스로 표현.\n",
    "- Cycle: 유향그래프에서 한 정점이 시작과 끝 모두를 장식하는 것. 싸이클이 없는 그래프는 acyclic graph라고 한다. 유향 그래프에서 싸이클이 없는 그래프는 directed acyclic graph 혹은 DAG라고 한다. "
   ]
  },
  {
   "cell_type": "markdown",
   "metadata": {},
   "source": [
    "## Represent graph\n",
    "### 인접 행렬(Adjaacency Matrix)\n",
    "> 2차원 배열을 통해서 matrix[i][j]는 정점 i에서 j로 가는 간선의 수를 나타낸다.\n",
    "***\n",
    "- 장: 두 정점이 주어졌을 때 두 정점을 잇는 간선을 확인하는 연산이 빠르다. 간선의 수가 많을 때 효율적인 방법\n",
    "- 단: 공간 사용이 비효율적이다. 사용하는 공간이 |V^2|인데 만약 간선의 수가 이보다 훨씬 적은 희소 그래프(sparse graph)일 경우 공간의 낭비가 심하다.\n",
    "-> 희소 그래프의 반대는 밀집 그래프(dense graph)다.\n",
    "***\n",
    "### 인접 리스트(Adjaacency List)\n",
    "> 그래프의 각 정점마다 해당 정점에서 나가는 간선 목록을 저장해서 그래프 표현.\n",
    "***\n",
    "- 장: 희소그래프의 경우 공간 사용이 효율적이다.\n",
    "- 딘: 두 정점의 연결 여부 확인시 행렬보다 연산속도가 느리다.\n",
    "    \n",
    "#### 결론\n",
    "- 희소 그래프에 대해선 인접 리스트를, 밀집 그래프에 대해선 인접 행렬을 사용하도록 하자."
   ]
  },
  {
   "cell_type": "code",
   "execution_count": 4,
   "metadata": {},
   "outputs": [],
   "source": [
    "# 인접 리스트로 구현한 그래프\n",
    "\n",
    "class Vertex:\n",
    "    \n",
    "    def __init__(self, key):\n",
    "        self.id = key\n",
    "        self.connected_to = {}\n",
    "    \n",
    "    def add_neighbor(self, nbr, weight=0):\n",
    "        self.connected_to[nbr] = weight\n",
    "    \n",
    "    def get_connection(self):\n",
    "        return self.connected_to\n",
    "    \n",
    "    def get_id(self):\n",
    "        return self.id\n",
    "    \n",
    "    def get_weight(self, nbr):\n",
    "        return self.connected_to[nbr]\n",
    "    \n",
    "    def __str__(self):\n",
    "        return str(self.id) + ' connected to ' + str([elem.id for elem in self.connected_to])\n",
    "\n",
    "\n",
    "class Graph:\n",
    "    \n",
    "    def __init__(self):\n",
    "        self.vertex_list = {}\n",
    "        self.vertex_count = 0\n",
    "    \n",
    "    def add_vertex(self, key):\n",
    "        self.vertex_count += 1\n",
    "        new_vertex = Vertex(key)\n",
    "        self.vertex_list[key] = new_vertex\n",
    "        return new_vertex\n",
    "    \n",
    "    def get_vertex(self, n):\n",
    "        if n in self.vertex_list:\n",
    "            return self.vertex_list[n]\n",
    "        else:\n",
    "            return None\n",
    "    \n",
    "    def add_edge(self, from_vertex, to_vertex, cost):\n",
    "        if from_vertex not in self.vertex_list:\n",
    "            nv = self.add_vertex(from_vertex)\n",
    "        if to_vertex not in self.vertex_list:\n",
    "            nv = self.add_vertex(to_vertex)\n",
    "        \n",
    "        self.vertex_list[from_vertex].add_neighbor(self.vertex_list[to_vertex], cost)\n",
    "    \n",
    "    def get_vertices(self):\n",
    "        return self.vertex_list.keys()\n",
    "    \n",
    "    def __iter__(self):\n",
    "        return iter(self.vertex_list.values())\n",
    "    \n",
    "    def __contain__(self, n):\n",
    "        return n in self.vertex_list"
   ]
  },
  {
   "cell_type": "code",
   "execution_count": 5,
   "metadata": {},
   "outputs": [
    {
     "name": "stdout",
     "output_type": "stream",
     "text": [
      "0 connected to [1]\n",
      "{<__main__.Vertex object at 0x110cf12e8>: 2}\n",
      "1 connected to []\n",
      "{}\n",
      "2 connected to []\n",
      "{}\n",
      "3 connected to []\n",
      "{}\n",
      "4 connected to []\n",
      "{}\n",
      "5 connected to []\n",
      "{}\n"
     ]
    }
   ],
   "source": [
    "g = Graph()\n",
    "\n",
    "for i in range(6):\n",
    "    g.add_vertex(i)\n",
    "\n",
    "g.add_edge(0, 1, 2)\n",
    "\n",
    "for v in g:\n",
    "    print(v)\n",
    "    print(v.get_connection())"
   ]
  },
  {
   "cell_type": "code",
   "execution_count": null,
   "metadata": {},
   "outputs": [],
   "source": []
  }
 ],
 "metadata": {
  "kernelspec": {
   "display_name": "Python 3",
   "language": "python",
   "name": "python3"
  },
  "language_info": {
   "codemirror_mode": {
    "name": "ipython",
    "version": 3
   },
   "file_extension": ".py",
   "mimetype": "text/x-python",
   "name": "python",
   "nbconvert_exporter": "python",
   "pygments_lexer": "ipython3",
   "version": "3.6.4"
  }
 },
 "nbformat": 4,
 "nbformat_minor": 2
}
