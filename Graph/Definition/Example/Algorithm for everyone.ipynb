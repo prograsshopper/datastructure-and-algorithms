{
 "cells": [
  {
   "cell_type": "code",
   "execution_count": 1,
   "metadata": {},
   "outputs": [],
   "source": [
    "# 친구 정보 그래프\n",
    "fr_info = {\n",
    "    'Summer': ['John', 'Justin', 'Mike'],\n",
    "    'John': ['Summer', 'Justin'],\n",
    "    'Justin': ['John', 'Summer', 'Mike', 'May'],\n",
    "    'Mike': ['Summer', 'Justin'],\n",
    "    'May': ['Justin', 'Kim'],\n",
    "    'Kim': ['May'],\n",
    "    'Tom': ['Jerry'],\n",
    "    'Jerry': ['Tom']\n",
    "}"
   ]
  },
  {
   "cell_type": "code",
   "execution_count": 3,
   "metadata": {},
   "outputs": [
    {
     "name": "stdout",
     "output_type": "stream",
     "text": [
      "['Summer', 'John', 'Justin', 'Mike', 'May', 'Kim']\n"
     ]
    }
   ],
   "source": [
    "\"\"\"\n",
    "모든 친구 찾기 알고리즘\n",
    "\n",
    "- 앞으로 처리할 사람을 저장할 큐(qu)와 이미 큐에 추가한 사람을 저장할 집합(done)\n",
    "- 검색의 출발점이 될 사람을 큐와 집합에 추가\n",
    "- 큐에 사람이 있다면 처리할 사람을 꺼낸다\n",
    "- 꺼낸 사람의 친구들 중 아직 큐에 추가된 적 없는 사람을 골라 큐와 집합에 추가\n",
    "\"\"\"\n",
    "\n",
    "\n",
    "def get_all_friends(graph, start):\n",
    "    qu = []\n",
    "    done = set()\n",
    "    \n",
    "    qu.append(start)\n",
    "    done.add(start)\n",
    "    \n",
    "    friends = []\n",
    "    while qu:\n",
    "        friend = qu.pop(0)\n",
    "        friends.append(friend)\n",
    "        \n",
    "        for elem in graph[friend]:\n",
    "            if elem not in done:\n",
    "                qu.append(elem)\n",
    "                done.add(elem)\n",
    "    return friends\n",
    "\n",
    "summer_friends = get_all_friends(fr_info, 'Summer')\n",
    "print(summer_friends)"
   ]
  },
  {
   "cell_type": "code",
   "execution_count": 7,
   "metadata": {},
   "outputs": [
    {
     "name": "stdout",
     "output_type": "stream",
     "text": [
      "[('Summer', 0), ('John', 1), ('Justin', 1), ('Mike', 1), ('May', 2), ('Kim', 3)]\n"
     ]
    }
   ],
   "source": [
    "\"\"\"\n",
    "친밀도 계산 알고리즘\n",
    "- 친구 리스트에서 자신의 모든 친구를 찾고 친밀도를 계산\n",
    "\"\"\"\n",
    "\n",
    "def get_all_friends_and_intimacy(graph, start):\n",
    "    qu = []\n",
    "    done = set()\n",
    "    \n",
    "    qu.append((start, 0))\n",
    "    done.add(start)\n",
    "    \n",
    "    friends = []\n",
    "    while qu:\n",
    "        friend, intimacy = qu.pop(0)\n",
    "        friends.append((friend, intimacy))\n",
    "        \n",
    "        for elem in graph[friend]:\n",
    "            if elem not in done:\n",
    "                qu.append((elem, intimacy+1))\n",
    "                done.add(elem)\n",
    "    return friends\n",
    "\n",
    "summer_friends = get_all_friends_and_intimacy(fr_info, 'Summer')\n",
    "print(summer_friends)"
   ]
  },
  {
   "cell_type": "code",
   "execution_count": null,
   "metadata": {},
   "outputs": [],
   "source": []
  }
 ],
 "metadata": {
  "kernelspec": {
   "display_name": "Python 3",
   "language": "python",
   "name": "python3"
  },
  "language_info": {
   "codemirror_mode": {
    "name": "ipython",
    "version": 3
   },
   "file_extension": ".py",
   "mimetype": "text/x-python",
   "name": "python",
   "nbconvert_exporter": "python",
   "pygments_lexer": "ipython3",
   "version": "3.6.4"
  }
 },
 "nbformat": 4,
 "nbformat_minor": 2
}
