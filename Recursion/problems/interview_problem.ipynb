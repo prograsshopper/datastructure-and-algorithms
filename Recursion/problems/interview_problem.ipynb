{
 "cells": [
  {
   "cell_type": "markdown",
   "metadata": {},
   "source": [
    "# Reverse a String\n",
    "- This interview question requires you to reverse a string using recursion. Make sure to think of the base case here.\n",
    "\n",
    "*Again, make sure you use recursion to accomplish this. Do not slice (e.g. string[::-1]) or use iteration, there must be a recursive call for the function."
   ]
  },
  {
   "cell_type": "code",
   "execution_count": 3,
   "metadata": {},
   "outputs": [],
   "source": [
    "def reverse(s):\n",
    "    if not s:\n",
    "        return ''\n",
    "    return s[len(s)-1] + reverse(s[:len(s)-1])"
   ]
  },
  {
   "cell_type": "code",
   "execution_count": 9,
   "metadata": {},
   "outputs": [
    {
     "name": "stdout",
     "output_type": "stream",
     "text": [
      "PASSED ALL TEST CASES!\n"
     ]
    }
   ],
   "source": [
    "'''\n",
    "RUN THIS CELL TO TEST YOUR FUNCTION AGAINST SOME TEST CASES\n",
    "'''\n",
    "\n",
    "import unittest\n",
    "\n",
    "class TestReverse(unittest.TestCase):\n",
    "    \n",
    "    def test_rev(self):\n",
    "        self.assertEqual(reverse('hello'),'olleh')\n",
    "        self.assertEqual(reverse('hello world'),'dlrow olleh')\n",
    "        self.assertEqual(reverse('123456789'),'987654321')\n",
    "        \n",
    "        print('PASSED ALL TEST CASES!')\n",
    "        \n",
    "# Run Tests\n",
    "test = TestReverse()\n",
    "test.test_rev()"
   ]
  },
  {
   "cell_type": "markdown",
   "metadata": {},
   "source": [
    "# String Permutation\n",
    "- Given a string, write a function that uses recursion to output a list of all the possible permutations of that string.\n",
    "- For example, given s='abc' the function should return ['abc', 'acb', 'bac', 'bca', 'cab', 'cba']\n",
    "\n",
    "*Note: If a character is repeated, treat each occurence as distinct, for example an input of 'xxx' would return a list with 6 \"versions\" of 'xxx'"
   ]
  },
  {
   "cell_type": "code",
   "execution_count": 2,
   "metadata": {},
   "outputs": [],
   "source": [
    "def permute(s):\n",
    "    out = []\n",
    "    \n",
    "    if len(s) == 1:\n",
    "        out = [s]\n",
    "    \n",
    "    for i, let in enumerate(s):\n",
    "        for perm in permute(s[:i]+s[i+1:]):\n",
    "            out += [let+perm]\n",
    "    return out"
   ]
  },
  {
   "cell_type": "code",
   "execution_count": 5,
   "metadata": {},
   "outputs": [
    {
     "name": "stdout",
     "output_type": "stream",
     "text": [
      "All test cases passed.\n"
     ]
    }
   ],
   "source": [
    "import unittest\n",
    "\n",
    "\n",
    "class TestPerm(unittest.TestCase):\n",
    "    def test(self):\n",
    "        self.assertEqual(sorted(permute('abc')),sorted(['abc', 'acb', 'bac', 'bca', 'cab', 'cba']))\n",
    "        self.assertEqual(sorted(permute('dog')),sorted(['dog', 'dgo', 'odg', 'ogd', 'gdo', 'god']) )\n",
    "        \n",
    "        print('All test cases passed.')\n",
    "        \n",
    "\n",
    "# Run Tests\n",
    "t = TestPerm()\n",
    "t.test()"
   ]
  },
  {
   "cell_type": "markdown",
   "metadata": {},
   "source": [
    "# Fibonnaci Sequence\n",
    "## Problem Statement\n",
    "- Implement a Fibonnaci Sequence in three different ways:\n",
    "\n",
    "\n",
    "Recursively\n",
    "Dynamically (Using Memoization to store results)\n",
    "Iteratively\n",
    "Function Output\n",
    "Your function will accept a number n and return the nth number of the fibonacci sequence"
   ]
  },
  {
   "cell_type": "code",
   "execution_count": 20,
   "metadata": {},
   "outputs": [],
   "source": [
    "def fib_rec(n):\n",
    "    if n <= 1:\n",
    "        return n\n",
    "    return fib_rec(n-1) + fib_rec(n-2)"
   ]
  },
  {
   "cell_type": "code",
   "execution_count": 28,
   "metadata": {},
   "outputs": [],
   "source": [
    "# Instantiate Cache information\n",
    "\n",
    "def fib_dyn(n):\n",
    "    cache = [None] * (n + 1)\n",
    "    cache[0] = 0\n",
    "    cache[1] = 1\n",
    "    for i in range(2, n+1):\n",
    "        cache[i] = cache[i-1] + cache[i-2]\n",
    "    return cache[n]"
   ]
  },
  {
   "cell_type": "code",
   "execution_count": null,
   "metadata": {},
   "outputs": [],
   "source": [
    "def fib_iter(n):\n",
    "    \n",
    "    # Set starting point\n",
    "    a = 0\n",
    "    b = 1\n",
    "    \n",
    "    # Follow algorithm\n",
    "    for i in range(n):\n",
    "        \n",
    "        a, b = b, a + b\n",
    "        \n",
    "    return a"
   ]
  },
  {
   "cell_type": "code",
   "execution_count": 29,
   "metadata": {},
   "outputs": [
    {
     "name": "stdout",
     "output_type": "stream",
     "text": [
      "Passed all tests.\n",
      "Passed all tests.\n"
     ]
    }
   ],
   "source": [
    "\"\"\"\n",
    "UNCOMMENT THE CODE AT THE BOTTOM OF THIS CELL TO SELECT WHICH SOLUTIONS TO TEST.\n",
    "THEN RUN THE CELL.\n",
    "\"\"\"\n",
    "\n",
    "import unittest\n",
    "\n",
    "class TestFib(unittest.TestCase):\n",
    "    def test(self,solution):\n",
    "        self.assertEqual(solution(10),55)\n",
    "        self.assertEqual(solution(1),1)\n",
    "        self.assertEqual(solution(23),28657)\n",
    "        print('Passed all tests.')\n",
    "# UNCOMMENT FOR CORRESPONDING FUNCTION\n",
    "t = TestFib()\n",
    "\n",
    "t.test(fib_rec)\n",
    "t.test(fib_dyn) # Note, will need to reset cache size for each test!\n",
    "t.test(fib_iter)"
   ]
  },
  {
   "cell_type": "markdown",
   "metadata": {},
   "source": [
    "# Coin Change Problem\n",
    "\n",
    "- Given a target amount n and a list (array) of distinct coin values, what's the fewest coins needed to make the change amount.\n",
    "\n",
    ">For example:\n",
    "If n = 10 and coins = [1,5,10]. Then there are 4 possible ways to make change:\n",
    "- 1+1+1+1+1+1+1+1+1+1\n",
    "- 5 + 1+1+1+1+1\n",
    "- 5+5\n",
    "-->10 With 1 coin being the minimum amount."
   ]
  },
  {
   "cell_type": "code",
   "execution_count": 4,
   "metadata": {},
   "outputs": [],
   "source": [
    "def rec_coin(target,coins):\n",
    "    if target == 0:\n",
    "        return 0\n",
    "    max_coin = max(coins)\n",
    "    while True:\n",
    "        if max_coin > target:\n",
    "            coins = coins[:len(coins)-1]\n",
    "        max_coin = max(coins)\n",
    "        if max_coin <= target:\n",
    "            break\n",
    "    result = (target // max_coin) + rec_coin((target%max_coin), coins[:len(coins)-1])\n",
    "    return result"
   ]
  },
  {
   "cell_type": "code",
   "execution_count": 5,
   "metadata": {},
   "outputs": [
    {
     "name": "stdout",
     "output_type": "stream",
     "text": [
      "Passed all tests.\n"
     ]
    }
   ],
   "source": [
    "\"\"\"\n",
    "RUN THIS CELL TO TEST YOUR FUNCTION.\n",
    "NOTE: NON-DYNAMIC FUNCTIONS WILL TAKE A LONG TIME TO TEST. IF YOU BELIEVE YOU HAVE A SOLUTION \n",
    "      GO CHECK THE SOLUTION NOTEBOOK INSTEAD OF RUNNING THIS!\n",
    "\"\"\"\n",
    "import unittest\n",
    "\n",
    "class TestCoins(unittest.TestCase):\n",
    "    \n",
    "    def check(self,solution):\n",
    "        coins = [1,5,10,25]\n",
    "        self.assertEqual(solution(45,coins),3)\n",
    "        self.assertEqual(solution(23,coins),5)\n",
    "        self.assertEqual(solution(74,coins),8)\n",
    "        print('Passed all tests.')\n",
    "# Run Test\n",
    "\n",
    "test = TestCoins()\n",
    "test.check(rec_coin)"
   ]
  },
  {
   "cell_type": "code",
   "execution_count": null,
   "metadata": {},
   "outputs": [],
   "source": []
  }
 ],
 "metadata": {
  "kernelspec": {
   "display_name": "Python 3",
   "language": "python",
   "name": "python3"
  },
  "language_info": {
   "codemirror_mode": {
    "name": "ipython",
    "version": 3
   },
   "file_extension": ".py",
   "mimetype": "text/x-python",
   "name": "python",
   "nbconvert_exporter": "python",
   "pygments_lexer": "ipython3",
   "version": "3.6.4"
  }
 },
 "nbformat": 4,
 "nbformat_minor": 2
}
