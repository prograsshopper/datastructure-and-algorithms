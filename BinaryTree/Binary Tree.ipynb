{
 "cells": [
  {
   "cell_type": "code",
   "execution_count": 1,
   "metadata": {},
   "outputs": [],
   "source": [
    "# Preorder: root - left - right\n",
    "def preorderTraversal(root):\n",
    "    result = []\n",
    "    if root:\n",
    "        result.append(root.val)\n",
    "        result += self.preorderTraversal(root.left)\n",
    "        result += self.preorderTraversal(root.right)\n",
    "    return result"
   ]
  },
  {
   "cell_type": "code",
   "execution_count": 2,
   "metadata": {},
   "outputs": [],
   "source": [
    "# Inorder: left - root - right\n",
    "def inorderTraversal(root):\n",
    "    result = []\n",
    "    if root:\n",
    "        result = self.inorderTraversal(root.left)\n",
    "        result.append(root.val)\n",
    "        result += self.inorderTraversal(root.right)\n",
    "    return result"
   ]
  },
  {
   "cell_type": "code",
   "execution_count": 3,
   "metadata": {},
   "outputs": [],
   "source": [
    "# Postorder: left - right- root\n",
    "def postorderTraversal(root):\n",
    "    result = []\n",
    "    if root:\n",
    "        result = self.postorderTraversal(root.left)\n",
    "        result += self.postorderTraversal(root.right)\n",
    "        result.append(root.val)\n",
    "    return result"
   ]
  },
  {
   "cell_type": "code",
   "execution_count": null,
   "metadata": {},
   "outputs": [],
   "source": [
    "# Level Traversal\n",
    "\n",
    "# Tree Node\n",
    "class Node():\n",
    "    def __init__(self, val=None):\n",
    "        self.val = val\n",
    "        self.left = None\n",
    "        self.right = None\n",
    "\n",
    "\n",
    "from collections import deque\n",
    "\n",
    "def level_traversal(tree):\n",
    "    if not tree:\n",
    "        return\n",
    "    \n",
    "    nodes = deque([tree])"
   ]
  }
 ],
 "metadata": {
  "kernelspec": {
   "display_name": "Python 3",
   "language": "python",
   "name": "python3"
  },
  "language_info": {
   "codemirror_mode": {
    "name": "ipython",
    "version": 3
   },
   "file_extension": ".py",
   "mimetype": "text/x-python",
   "name": "python",
   "nbconvert_exporter": "python",
   "pygments_lexer": "ipython3",
   "version": "3.6.4"
  }
 },
 "nbformat": 4,
 "nbformat_minor": 2
}
